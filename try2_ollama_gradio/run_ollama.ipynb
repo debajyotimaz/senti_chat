{
 "cells": [
  {
   "cell_type": "code",
   "execution_count": 1,
   "metadata": {},
   "outputs": [
    {
     "data": {
      "text/plain": [
       "'To provide an accurate and helpful answer, I\\'d like to clarify what you\\'re asking about \"LangChain.\" Could you please provide more context or information regarding this term? What seems to be related to it (e.g., programming, technology, a specific project)? This will help me give you a more precise response.'"
      ]
     },
     "execution_count": 1,
     "metadata": {},
     "output_type": "execute_result"
    }
   ],
   "source": [
    "from langchain_core.prompts import ChatPromptTemplate\n",
    "from langchain_ollama.llms import OllamaLLM\n",
    "\n",
    "template = \"\"\"Question: {question}\n",
    "\n",
    "Answer: Let's think step by step.\"\"\"\n",
    "\n",
    "prompt = ChatPromptTemplate.from_template(template)\n",
    "\n",
    "model = OllamaLLM(model=\"llama3.2:1b\")\n",
    "\n",
    "chain = prompt | model\n",
    "\n",
    "chain.invoke({\"question\": \"What is LangChain?\"})"
   ]
  },
  {
   "cell_type": "code",
   "execution_count": 9,
   "metadata": {},
   "outputs": [],
   "source": [
    "from langchain_core.prompts import ChatPromptTemplate\n",
    "\n",
    "template = ChatPromptTemplate([\n",
    "    (\"system\", \"You are a helpful AI bot. Your name is Adhapaka.\"),\n",
    "    (\"human\", \"Hello, how are you doing?\"),\n",
    "    (\"ai\", \"I'm doing well, thanks!\"),\n",
    "    (\"human\", \"{user_input}\"),\n",
    "])\n",
    "\n",
    "prompt_value = template.invoke(\n",
    "    {\n",
    "        \"name\": \"Bob\",\n",
    "        \"user_input\": \"What is your name?\"\n",
    "    }\n",
    ")\n",
    "# Output:\n",
    "# ChatPromptValue(\n",
    "#    messages=[\n",
    "#        SystemMessage(content='You are a helpful AI bot. Your name is Bob.'),\n",
    "#        HumanMessage(content='Hello, how are you doing?'),\n",
    "#        AIMessage(content=\"I'm doing well, thanks!\"),\n",
    "#        HumanMessage(content='What is your name?')\n",
    "#    ]\n",
    "#)"
   ]
  },
  {
   "cell_type": "code",
   "execution_count": 11,
   "metadata": {},
   "outputs": [
    {
     "data": {
      "text/plain": [
       "'To determine the order of execution for these messages in Python, we need to consider how they are processed and passed through various layers of a system that might handle them. \\n\\nHere\\'s a simplified overview:\\n\\n1. The list `messages` contains multiple messages as tuples.\\n\\n2. When processing a message:\\n   - For each message, you access the `content`, `additional_kwargs`, `response_metadata`, etc. attributes.\\n   - These attributes are typically used by specific components within the system to process the data in different ways.\\n   - The exact steps and how they\\'re executed depend on the nature of your application.\\n\\n3. If there\\'s a specific function or method associated with each message (like the ones provided), it will be called when processing that message.\\n\\n4. For instance, if you have a `SystemMessage` class and an `AIMessage` class in your system:\\n   - When processing messages like these, the `content`, `additional_kwargs`, etc., would be accessed.\\n   - The `response_metadata` could also provide additional information about how to respond (e.g., what should happen after the response is received).\\n   - These attributes are then used by the associated method in your system.\\n\\n5. This process can be complex, and understanding it requires knowing about different components of your application and how they interact with each other.\\n\\nGiven this complexity and without specific details about your application\\'s architecture, determining the exact order of execution for these messages would require knowledge of where and how they are processed within your system. \\n\\nHowever, one common scenario in such applications is that messages might be routed to different systems or components based on their content (e.g., `SystemMessage` being handled differently than `AIMessage`) or metadata (like the presence of certain keywords). This would involve checking attributes like `content`, `additional_kwargs`, and `response_metadata`. \\n\\nFor example, you could use Python\\'s `if-elif-else` statement to check which component handles each message based on its content or additional kwargs:\\n\\n```python\\nfor msg in messages:\\n    if isinstance(msg.content, str) and \"helpful\" in msg.content.lower():\\n        print(\"Handling Adhapaka\")\\n    elif any(keyword in msg.content.lower() for keyword in [\"help\", \"assistant\"]):\\n        print(\"Handling AIMessage\")\\n    else:\\n        print(\"Not handled yet\")\\n```\\n\\nThis example is simplified but should give you an idea of how to approach determining the order of execution based on message content and metadata.'"
      ]
     },
     "execution_count": 11,
     "metadata": {},
     "output_type": "execute_result"
    }
   ],
   "source": [
    "chain = prompt | model\n",
    "\n",
    "chain.invoke(prompt_value)"
   ]
  },
  {
   "cell_type": "code",
   "execution_count": 1,
   "metadata": {},
   "outputs": [
    {
     "name": "stdout",
     "output_type": "stream",
     "text": [
      "LangChain is a decentralized, open-source language project that aims to create a more secure and efficient platform for developing, testing, and deploying blockchain applications. It's based on the Rust programming language and provides a new way of building blockchain-related software.\n",
      "\n",
      "LangChain allows developers to write code in their preferred languages, such as JavaScript, Rust, or Go, and compiles it into a binary format that can be run on LangChain's platform. This enables faster development, improved performance, and reduced costs compared to traditional WebAssembly-based solutions.\n",
      "\n",
      "One of the key features of LangChain is its focus on security. The project uses techniques like memory safety guarantees, secure-by-design principles, and runtime verification to ensure that the code being executed is trustworthy and free from bugs.\n",
      "\n",
      "LangChain's ecosystem also includes tools and libraries for building blockchain applications, such as a WebAssembly compiler and a set of language-agnostic APIs. This makes it easier for developers to build and deploy blockchain-related software without having to write custom code or manage complex toolchains.\n",
      "\n",
      "Overall, LangChain is an innovative approach to developing blockchain applications that combines the benefits of modern Rust programming with the needs of blockchain development.\n",
      "\n",
      "\n"
     ]
    }
   ],
   "source": [
    "import subprocess\n",
    "\n",
    "# Define the query\n",
    "query = \"What is LangChain?\"\n",
    "\n",
    "# Run the Ollama CLI command and pass the query\n",
    "result = subprocess.run(\n",
    "    [\"ollama\", \"run\", \"llama3.2:1b\"],\n",
    "    input=query,\n",
    "    text=True,\n",
    "    capture_output=True\n",
    ")\n",
    "\n",
    "# Print the response from the model\n",
    "print(result.stdout)"
   ]
  },
  {
   "cell_type": "code",
   "execution_count": 3,
   "metadata": {},
   "outputs": [
    {
     "name": "stderr",
     "output_type": "stream",
     "text": [
      "/tmp/ipykernel_1851677/2917121562.py:3: LangChainDeprecationWarning: The class `Ollama` was deprecated in LangChain 0.3.1 and will be removed in 1.0.0. An updated version of the class exists in the :class:`~langchain-ollama package and should be used instead. To use it run `pip install -U :class:`~langchain-ollama` and import as `from :class:`~langchain_ollama import OllamaLLM``.\n",
      "  llm = Ollama(model=\"llama3.2:1b\")\n"
     ]
    },
    {
     "data": {
      "text/plain": [
       "'A man walked into a library and asked the librarian, \"Do you have any books on Pavlov\\'s dogs and Schrödinger\\'s cat?\" The librarian replied, \"It rings a bell, but I\\'m not sure if it\\'s here or not.\"'"
      ]
     },
     "execution_count": 3,
     "metadata": {},
     "output_type": "execute_result"
    }
   ],
   "source": [
    "from langchain_community.llms import Ollama\n",
    "\n",
    "llm = Ollama(model=\"llama3.2:1b\")\n",
    "\n",
    "llm.invoke(\"Tell me a joke\")"
   ]
  },
  {
   "cell_type": "code",
   "execution_count": 5,
   "metadata": {},
   "outputs": [
    {
     "name": "stdout",
     "output_type": "stream",
     "text": [
      "Status Code: 200\n",
      "Raw Response: {\"model\":\"llama3.2:1b\",\"created_at\":\"2025-01-08T14:14:45.0495337Z\",\"response\":\"Lang\",\"done\":false}\n",
      "{\"model\":\"llama3.2:1b\",\"created_at\":\"2025-01-08T14:14:45.133295669Z\",\"response\":\"Chain\",\"done\":false}\n",
      "{\"model\":\"llama3.2:1b\",\"created_at\":\"2025-01-08T14:14:45.21037895Z\",\"response\":\" is\",\"done\":false}\n",
      "{\"model\":\"llama3.2:1b\",\"created_at\":\"2025-01-08T14:14:45.262120851Z\",\"response\":\" a\",\"done\":false}\n",
      "{\"model\":\"llama3.2:1b\",\"created_at\":\"2025-01-08T14:14:45.30999968Z\",\"response\":\" browser\",\"done\":false}\n",
      "{\"model\":\"llama3.2:1b\",\"created_at\":\"2025-01-08T14:14:45.35239955Z\",\"response\":\" extension\",\"done\":false}\n",
      "{\"model\":\"llama3.2:1b\",\"created_at\":\"2025-01-08T14:14:45.398366008Z\",\"response\":\" that\",\"done\":false}\n",
      "{\"model\":\"llama3.2:1b\",\"created_at\":\"2025-01-08T14:14:45.445494021Z\",\"response\":\" appears\",\"done\":false}\n",
      "{\"model\":\"llama3.2:1b\",\"created_at\":\"2025-01-08T14:14:45.497654805Z\",\"response\":\" to\",\"done\":false}\n",
      "{\"model\":\"llama3.2:1b\",\"created_at\":\"2025-01-08T14:14:45.584761685Z\",\"response\":\" be\",\"done\":false}\n",
      "{\"model\":\"llama3.2:1b\",\"created_at\":\"2025-01-08T14:14:45.631319521Z\",\"response\":\" designed\",\"done\":false}\n",
      "{\"model\":\"llama3.2:1b\",\"created_at\":\"2025-01-08T14:14:45.680809515Z\",\"response\":\" to\",\"done\":false}\n",
      "{\"model\":\"llama3.2:1b\",\"created_at\":\"2025-01-08T14:14:45.729409141Z\",\"response\":\" provide\",\"done\":false}\n",
      "{\"model\":\"llama3.2:1b\",\"created_at\":\"2025-01-08T14:14:45.791575615Z\",\"response\":\" additional\",\"done\":false}\n",
      "{\"model\":\"llama3.2:1b\",\"created_at\":\"2025-01-08T14:14:45.857117626Z\",\"response\":\" features\",\"done\":false}\n",
      "{\"model\":\"llama3.2:1b\",\"created_at\":\"2025-01-08T14:14:45.913049349Z\",\"response\":\" and\",\"done\":false}\n",
      "{\"model\":\"llama3.2:1b\",\"created_at\":\"2025-01-08T14:14:45.967807956Z\",\"response\":\" functionality\",\"done\":false}\n",
      "{\"model\":\"llama3.2:1b\",\"created_at\":\"2025-01-08T14:14:46.031562555Z\",\"response\":\" within\",\"done\":false}\n",
      "{\"model\":\"llama3.2:1b\",\"created_at\":\"2025-01-08T14:14:46.082045375Z\",\"response\":\" the\",\"done\":false}\n",
      "{\"model\":\"llama3.2:1b\",\"created_at\":\"2025-01-08T14:14:46.132762569Z\",\"response\":\" Chromium\",\"done\":false}\n",
      "{\"model\":\"llama3.2:1b\",\"created_at\":\"2025-01-08T14:14:46.184135876Z\",\"response\":\" (\",\"done\":false}\n",
      "{\"model\":\"llama3.2:1b\",\"created_at\":\"2025-01-08T14:14:46.233982762Z\",\"response\":\"Google\",\"done\":false}\n",
      "{\"model\":\"llama3.2:1b\",\"created_at\":\"2025-01-08T14:14:46.284092362Z\",\"response\":\" Chrome\",\"done\":false}\n",
      "{\"model\":\"llama3.2:1b\",\"created_at\":\"2025-01-08T14:14:46.336891708Z\",\"response\":\")\",\"done\":false}\n",
      "{\"model\":\"llama3.2:1b\",\"created_at\":\"2025-01-08T14:14:46.386682578Z\",\"response\":\" browser\",\"done\":false}\n",
      "{\"model\":\"llama3.2:1b\",\"created_at\":\"2025-01-08T14:14:46.4372069Z\",\"response\":\".\",\"done\":false}\n",
      "{\"model\":\"llama3.2:1b\",\"created_at\":\"2025-01-08T14:14:46.493837705Z\",\"response\":\" It\",\"done\":false}\n",
      "{\"model\":\"llama3.2:1b\",\"created_at\":\"2025-01-08T14:14:46.542041516Z\",\"response\":\" offers\",\"done\":false}\n",
      "{\"model\":\"llama3.2:1b\",\"created_at\":\"2025-01-08T14:14:46.591084668Z\",\"response\":\" various\",\"done\":false}\n",
      "{\"model\":\"llama3.2:1b\",\"created_at\":\"2025-01-08T14:14:46.636911839Z\",\"response\":\" tools\",\"done\":false}\n",
      "{\"model\":\"llama3.2:1b\",\"created_at\":\"2025-01-08T14:14:46.685037882Z\",\"response\":\",\",\"done\":false}\n",
      "{\"model\":\"llama3.2:1b\",\"created_at\":\"2025-01-08T14:14:46.737210215Z\",\"response\":\" such\",\"done\":false}\n",
      "{\"model\":\"llama3.2:1b\",\"created_at\":\"2025-01-08T14:14:46.790772476Z\",\"response\":\" as\",\"done\":false}\n",
      "{\"model\":\"llama3.2:1b\",\"created_at\":\"2025-01-08T14:14:46.843305496Z\",\"response\":\" code\",\"done\":false}\n",
      "{\"model\":\"llama3.2:1b\",\"created_at\":\"2025-01-08T14:14:46.892775329Z\",\"response\":\" completion\",\"done\":false}\n",
      "{\"model\":\"llama3.2:1b\",\"created_at\":\"2025-01-08T14:14:46.947513654Z\",\"response\":\",\",\"done\":false}\n",
      "{\"model\":\"llama3.2:1b\",\"created_at\":\"2025-01-08T14:14:46.994742168Z\",\"response\":\" debugging\",\"done\":false}\n",
      "{\"model\":\"llama3.2:1b\",\"created_at\":\"2025-01-08T14:14:47.049307703Z\",\"response\":\",\",\"done\":false}\n",
      "{\"model\":\"llama3.2:1b\",\"created_at\":\"2025-01-08T14:14:47.104513413Z\",\"response\":\" and\",\"done\":false}\n",
      "{\"model\":\"llama3.2:1b\",\"created_at\":\"2025-01-08T14:14:47.151641021Z\",\"response\":\" other\",\"done\":false}\n",
      "{\"model\":\"llama3.2:1b\",\"created_at\":\"2025-01-08T14:14:47.20562522Z\",\"response\":\" utilities\",\"done\":false}\n",
      "{\"model\":\"llama3.2:1b\",\"created_at\":\"2025-01-08T14:14:47.28845089Z\",\"response\":\" for\",\"done\":false}\n",
      "{\"model\":\"llama3.2:1b\",\"created_at\":\"2025-01-08T14:14:47.35481775Z\",\"response\":\" developers\",\"done\":false}\n",
      "{\"model\":\"llama3.2:1b\",\"created_at\":\"2025-01-08T14:14:47.466637343Z\",\"response\":\".\\n\\n\",\"done\":false}\n",
      "{\"model\":\"llama3.2:1b\",\"created_at\":\"2025-01-08T14:14:47.542318787Z\",\"response\":\"However\",\"done\":false}\n",
      "{\"model\":\"llama3.2:1b\",\"created_at\":\"2025-01-08T14:14:47.608604742Z\",\"response\":\",\",\"done\":false}\n",
      "{\"model\":\"llama3.2:1b\",\"created_at\":\"2025-01-08T14:14:47.67370693Z\",\"response\":\" there\",\"done\":false}\n",
      "{\"model\":\"llama3.2:1b\",\"created_at\":\"2025-01-08T14:14:47.728622285Z\",\"response\":\" are\",\"done\":false}\n",
      "{\"model\":\"llama3.2:1b\",\"created_at\":\"2025-01-08T14:14:47.789555257Z\",\"response\":\" some\",\"done\":false}\n",
      "{\"model\":\"llama3.2:1b\",\"created_at\":\"2025-01-08T14:14:47.857914407Z\",\"response\":\" concerns\",\"done\":false}\n",
      "{\"model\":\"llama3.2:1b\",\"created_at\":\"2025-01-08T14:14:47.939000104Z\",\"response\":\" and\",\"done\":false}\n",
      "{\"model\":\"llama3.2:1b\",\"created_at\":\"2025-01-08T14:14:48.013983038Z\",\"response\":\" criticisms\",\"done\":false}\n",
      "{\"model\":\"llama3.2:1b\",\"created_at\":\"2025-01-08T14:14:48.086277573Z\",\"response\":\" surrounding\",\"done\":false}\n",
      "{\"model\":\"llama3.2:1b\",\"created_at\":\"2025-01-08T14:14:48.166286123Z\",\"response\":\" Lang\",\"done\":false}\n",
      "{\"model\":\"llama3.2:1b\",\"created_at\":\"2025-01-08T14:14:48.248096744Z\",\"response\":\"Chain\",\"done\":false}\n",
      "{\"model\":\"llama3.2:1b\",\"created_at\":\"2025-01-08T14:14:48.318665076Z\",\"response\":\".\",\"done\":false}\n",
      "{\"model\":\"llama3.2:1b\",\"created_at\":\"2025-01-08T14:14:48.382844601Z\",\"response\":\" Some\",\"done\":false}\n",
      "{\"model\":\"llama3.2:1b\",\"created_at\":\"2025-01-08T14:14:48.450863699Z\",\"response\":\" users\",\"done\":false}\n",
      "{\"model\":\"llama3.2:1b\",\"created_at\":\"2025-01-08T14:14:48.532260307Z\",\"response\":\" have\",\"done\":false}\n",
      "{\"model\":\"llama3.2:1b\",\"created_at\":\"2025-01-08T14:14:48.623539851Z\",\"response\":\" reported\",\"done\":false}\n",
      "{\"model\":\"llama3.2:1b\",\"created_at\":\"2025-01-08T14:14:48.703311567Z\",\"response\":\" issues\",\"done\":false}\n",
      "{\"model\":\"llama3.2:1b\",\"created_at\":\"2025-01-08T14:14:48.78059232Z\",\"response\":\" with\",\"done\":false}\n",
      "{\"model\":\"llama3.2:1b\",\"created_at\":\"2025-01-08T14:14:48.839831114Z\",\"response\":\" the\",\"done\":false}\n",
      "{\"model\":\"llama3.2:1b\",\"created_at\":\"2025-01-08T14:14:48.919931264Z\",\"response\":\" extension\",\"done\":false}\n",
      "{\"model\":\"llama3.2:1b\",\"created_at\":\"2025-01-08T14:14:48.975189017Z\",\"response\":\"'s\",\"done\":false}\n",
      "{\"model\":\"llama3.2:1b\",\"created_at\":\"2025-01-08T14:14:49.023238172Z\",\"response\":\" functionality\",\"done\":false}\n",
      "{\"model\":\"llama3.2:1b\",\"created_at\":\"2025-01-08T14:14:49.073292827Z\",\"response\":\",\",\"done\":false}\n",
      "{\"model\":\"llama3.2:1b\",\"created_at\":\"2025-01-08T14:14:49.132402817Z\",\"response\":\" stability\",\"done\":false}\n",
      "{\"model\":\"llama3.2:1b\",\"created_at\":\"2025-01-08T14:14:49.211184243Z\",\"response\":\",\",\"done\":false}\n",
      "{\"model\":\"llama3.2:1b\",\"created_at\":\"2025-01-08T14:14:49.312162151Z\",\"response\":\" or\",\"done\":false}\n",
      "{\"model\":\"llama3.2:1b\",\"created_at\":\"2025-01-08T14:14:49.363085537Z\",\"response\":\" reliability\",\"done\":false}\n",
      "{\"model\":\"llama3.2:1b\",\"created_at\":\"2025-01-08T14:14:49.406067019Z\",\"response\":\".\",\"done\":false}\n",
      "{\"model\":\"llama3.2:1b\",\"created_at\":\"2025-01-08T14:14:49.454115806Z\",\"response\":\" Others\",\"done\":false}\n",
      "{\"model\":\"llama3.2:1b\",\"created_at\":\"2025-01-08T14:14:49.502415035Z\",\"response\":\" have\",\"done\":false}\n",
      "{\"model\":\"llama3.2:1b\",\"created_at\":\"2025-01-08T14:14:49.54650311Z\",\"response\":\" raised\",\"done\":false}\n",
      "{\"model\":\"llama3.2:1b\",\"created_at\":\"2025-01-08T14:14:49.596864431Z\",\"response\":\" questions\",\"done\":false}\n",
      "{\"model\":\"llama3.2:1b\",\"created_at\":\"2025-01-08T14:14:49.641749014Z\",\"response\":\" about\",\"done\":false}\n",
      "{\"model\":\"llama3.2:1b\",\"created_at\":\"2025-01-08T14:14:49.687121869Z\",\"response\":\" its\",\"done\":false}\n",
      "{\"model\":\"llama3.2:1b\",\"created_at\":\"2025-01-08T14:14:49.739616067Z\",\"response\":\" potential\",\"done\":false}\n",
      "{\"model\":\"llama3.2:1b\",\"created_at\":\"2025-01-08T14:14:49.792055709Z\",\"response\":\" impact\",\"done\":false}\n",
      "{\"model\":\"llama3.2:1b\",\"created_at\":\"2025-01-08T14:14:49.84412219Z\",\"response\":\" on\",\"done\":false}\n",
      "{\"model\":\"llama3.2:1b\",\"created_at\":\"2025-01-08T14:14:49.889298381Z\",\"response\":\" performance\",\"done\":false}\n",
      "{\"model\":\"llama3.2:1b\",\"created_at\":\"2025-01-08T14:14:49.935815373Z\",\"response\":\" or\",\"done\":false}\n",
      "{\"model\":\"llama3.2:1b\",\"created_at\":\"2025-01-08T14:14:49.983351052Z\",\"response\":\" security\",\"done\":false}\n",
      "{\"model\":\"llama3.2:1b\",\"created_at\":\"2025-01-08T14:14:50.028561651Z\",\"response\":\" within\",\"done\":false}\n",
      "{\"model\":\"llama3.2:1b\",\"created_at\":\"2025-01-08T14:14:50.074445418Z\",\"response\":\" a\",\"done\":false}\n",
      "{\"model\":\"llama3.2:1b\",\"created_at\":\"2025-01-08T14:14:50.128232095Z\",\"response\":\" browsing\",\"done\":false}\n",
      "{\"model\":\"llama3.2:1b\",\"created_at\":\"2025-01-08T14:14:50.189678427Z\",\"response\":\" session\",\"done\":false}\n",
      "{\"model\":\"llama3.2:1b\",\"created_at\":\"2025-01-08T14:14:50.245072382Z\",\"response\":\".\\n\\n\",\"done\":false}\n",
      "{\"model\":\"llama3.2:1b\",\"created_at\":\"2025-01-08T14:14:50.291607558Z\",\"response\":\"If\",\"done\":false}\n",
      "{\"model\":\"llama3.2:1b\",\"created_at\":\"2025-01-08T14:14:50.340373158Z\",\"response\":\" you\",\"done\":false}\n",
      "{\"model\":\"llama3.2:1b\",\"created_at\":\"2025-01-08T14:14:50.386278724Z\",\"response\":\"'re\",\"done\":false}\n",
      "{\"model\":\"llama3.2:1b\",\"created_at\":\"2025-01-08T14:14:50.433466187Z\",\"response\":\" considering\",\"done\":false}\n",
      "{\"model\":\"llama3.2:1b\",\"created_at\":\"2025-01-08T14:14:50.481152853Z\",\"response\":\" installing\",\"done\":false}\n",
      "{\"model\":\"llama3.2:1b\",\"created_at\":\"2025-01-08T14:14:50.533746341Z\",\"response\":\" Lang\",\"done\":false}\n",
      "{\"model\":\"llama3.2:1b\",\"created_at\":\"2025-01-08T14:14:50.580722132Z\",\"response\":\"Chain\",\"done\":false}\n",
      "{\"model\":\"llama3.2:1b\",\"created_at\":\"2025-01-08T14:14:50.628825593Z\",\"response\":\",\",\"done\":false}\n",
      "{\"model\":\"llama3.2:1b\",\"created_at\":\"2025-01-08T14:14:50.72303787Z\",\"response\":\" I\",\"done\":false}\n",
      "{\"model\":\"llama3.2:1b\",\"created_at\":\"2025-01-08T14:14:50.797373128Z\",\"response\":\" recommend\",\"done\":false}\n",
      "{\"model\":\"llama3.2:1b\",\"created_at\":\"2025-01-08T14:14:50.86266769Z\",\"response\":\" exercising\",\"done\":false}\n",
      "{\"model\":\"llama3.2:1b\",\"created_at\":\"2025-01-08T14:14:50.929709835Z\",\"response\":\" caution\",\"done\":false}\n",
      "{\"model\":\"llama3.2:1b\",\"created_at\":\"2025-01-08T14:14:50.996064778Z\",\"response\":\" and\",\"done\":false}\n",
      "{\"model\":\"llama3.2:1b\",\"created_at\":\"2025-01-08T14:14:51.04930831Z\",\"response\":\" carefully\",\"done\":false}\n",
      "{\"model\":\"llama3.2:1b\",\"created_at\":\"2025-01-08T14:14:51.096931144Z\",\"response\":\" evaluating\",\"done\":false}\n",
      "{\"model\":\"llama3.2:1b\",\"created_at\":\"2025-01-08T14:14:51.152040683Z\",\"response\":\" its\",\"done\":false}\n",
      "{\"model\":\"llama3.2:1b\",\"created_at\":\"2025-01-08T14:14:51.202526759Z\",\"response\":\" features\",\"done\":false}\n",
      "{\"model\":\"llama3.2:1b\",\"created_at\":\"2025-01-08T14:14:51.266491678Z\",\"response\":\" and\",\"done\":false}\n",
      "{\"model\":\"llama3.2:1b\",\"created_at\":\"2025-01-08T14:14:51.329903174Z\",\"response\":\" potential\",\"done\":false}\n",
      "{\"model\":\"llama3.2:1b\",\"created_at\":\"2025-01-08T14:14:51.380429704Z\",\"response\":\" drawbacks\",\"done\":false}\n",
      "{\"model\":\"llama3.2:1b\",\"created_at\":\"2025-01-08T14:14:51.432587615Z\",\"response\":\" before\",\"done\":false}\n",
      "{\"model\":\"llama3.2:1b\",\"created_at\":\"2025-01-08T14:14:51.485020042Z\",\"response\":\" making\",\"done\":false}\n",
      "{\"model\":\"llama3.2:1b\",\"created_at\":\"2025-01-08T14:14:51.537155151Z\",\"response\":\" a\",\"done\":false}\n",
      "{\"model\":\"llama3.2:1b\",\"created_at\":\"2025-01-08T14:14:51.589075805Z\",\"response\":\" decision\",\"done\":false}\n",
      "{\"model\":\"llama3.2:1b\",\"created_at\":\"2025-01-08T14:14:51.636780294Z\",\"response\":\".\",\"done\":false}\n",
      "{\"model\":\"llama3.2:1b\",\"created_at\":\"2025-01-08T14:14:51.688370451Z\",\"response\":\" It\",\"done\":false}\n",
      "{\"model\":\"llama3.2:1b\",\"created_at\":\"2025-01-08T14:14:51.743146819Z\",\"response\":\" might\",\"done\":false}\n",
      "{\"model\":\"llama3.2:1b\",\"created_at\":\"2025-01-08T14:14:51.793252077Z\",\"response\":\" be\",\"done\":false}\n",
      "{\"model\":\"llama3.2:1b\",\"created_at\":\"2025-01-08T14:14:51.844966325Z\",\"response\":\" helpful\",\"done\":false}\n",
      "{\"model\":\"llama3.2:1b\",\"created_at\":\"2025-01-08T14:14:51.895710016Z\",\"response\":\" to\",\"done\":false}\n",
      "{\"model\":\"llama3.2:1b\",\"created_at\":\"2025-01-08T14:14:51.941703401Z\",\"response\":\" read\",\"done\":false}\n",
      "{\"model\":\"llama3.2:1b\",\"created_at\":\"2025-01-08T14:14:51.992215652Z\",\"response\":\" more\",\"done\":false}\n",
      "{\"model\":\"llama3.2:1b\",\"created_at\":\"2025-01-08T14:14:52.04357928Z\",\"response\":\" reviews\",\"done\":false}\n",
      "{\"model\":\"llama3.2:1b\",\"created_at\":\"2025-01-08T14:14:52.09474777Z\",\"response\":\",\",\"done\":false}\n",
      "{\"model\":\"llama3.2:1b\",\"created_at\":\"2025-01-08T14:14:52.14071312Z\",\"response\":\" check\",\"done\":false}\n",
      "{\"model\":\"llama3.2:1b\",\"created_at\":\"2025-01-08T14:14:52.192866935Z\",\"response\":\" the\",\"done\":false}\n",
      "{\"model\":\"llama3.2:1b\",\"created_at\":\"2025-01-08T14:14:52.243456551Z\",\"response\":\" extension\",\"done\":false}\n",
      "{\"model\":\"llama3.2:1b\",\"created_at\":\"2025-01-08T14:14:52.289775893Z\",\"response\":\"'s\",\"done\":false}\n",
      "{\"model\":\"llama3.2:1b\",\"created_at\":\"2025-01-08T14:14:52.335166375Z\",\"response\":\" ratings\",\"done\":false}\n",
      "{\"model\":\"llama3.2:1b\",\"created_at\":\"2025-01-08T14:14:52.380705451Z\",\"response\":\" and\",\"done\":false}\n",
      "{\"model\":\"llama3.2:1b\",\"created_at\":\"2025-01-08T14:14:52.426179806Z\",\"response\":\" comments\",\"done\":false}\n",
      "{\"model\":\"llama3.2:1b\",\"created_at\":\"2025-01-08T14:14:52.471786622Z\",\"response\":\",\",\"done\":false}\n",
      "{\"model\":\"llama3.2:1b\",\"created_at\":\"2025-01-08T14:14:52.519444776Z\",\"response\":\" and\",\"done\":false}\n",
      "{\"model\":\"llama3.2:1b\",\"created_at\":\"2025-01-08T14:14:52.564096208Z\",\"response\":\" consider\",\"done\":false}\n",
      "{\"model\":\"llama3.2:1b\",\"created_at\":\"2025-01-08T14:14:52.613079115Z\",\"response\":\" alternative\",\"done\":false}\n",
      "{\"model\":\"llama3.2:1b\",\"created_at\":\"2025-01-08T14:14:52.665540234Z\",\"response\":\" options\",\"done\":false}\n",
      "{\"model\":\"llama3.2:1b\",\"created_at\":\"2025-01-08T14:14:52.716170378Z\",\"response\":\" that\",\"done\":false}\n",
      "{\"model\":\"llama3.2:1b\",\"created_at\":\"2025-01-08T14:14:52.762118711Z\",\"response\":\" may\",\"done\":false}\n",
      "{\"model\":\"llama3.2:1b\",\"created_at\":\"2025-01-08T14:14:52.810112255Z\",\"response\":\" better\",\"done\":false}\n",
      "{\"model\":\"llama3.2:1b\",\"created_at\":\"2025-01-08T14:14:52.855368707Z\",\"response\":\" suit\",\"done\":false}\n",
      "{\"model\":\"llama3.2:1b\",\"created_at\":\"2025-01-08T14:14:52.899326229Z\",\"response\":\" your\",\"done\":false}\n",
      "{\"model\":\"llama3.2:1b\",\"created_at\":\"2025-01-08T14:14:52.943669964Z\",\"response\":\" specific\",\"done\":false}\n",
      "{\"model\":\"llama3.2:1b\",\"created_at\":\"2025-01-08T14:14:52.993830725Z\",\"response\":\" needs\",\"done\":false}\n",
      "{\"model\":\"llama3.2:1b\",\"created_at\":\"2025-01-08T14:14:53.045904607Z\",\"response\":\".\",\"done\":false}\n",
      "{\"model\":\"llama3.2:1b\",\"created_at\":\"2025-01-08T14:14:53.097199416Z\",\"response\":\"\",\"done\":true,\"done_reason\":\"stop\",\"context\":[128006,9125,128007,271,38766,1303,33025,2696,25,6790,220,2366,18,271,128009,128006,882,128007,271,3923,374,23272,19368,30,128009,128006,78191,128007,271,27317,19368,374,264,7074,9070,430,8111,311,387,6319,311,3493,5217,4519,323,15293,2949,279,58265,320,14783,17669,8,7074,13,1102,6209,5370,7526,11,1778,439,2082,9954,11,28803,11,323,1023,30519,369,13707,382,11458,11,1070,527,1063,10742,323,63836,14932,23272,19368,13,4427,3932,617,5068,4819,449,279,9070,596,15293,11,20334,11,477,31638,13,26080,617,9408,4860,922,1202,4754,5536,389,5178,477,4868,2949,264,32421,3882,382,2746,499,2351,13126,27730,23272,19368,11,358,7079,51582,28930,323,15884,38663,1202,4519,323,4754,89173,1603,3339,264,5597,13,1102,2643,387,11190,311,1373,810,8544,11,1817,279,9070,596,18594,323,6170,11,323,2980,10778,2671,430,1253,2731,7937,701,3230,3966,13],\"total_duration\":8172103348,\"load_duration\":60992361,\"prompt_eval_count\":30,\"prompt_eval_duration\":59000000,\"eval_count\":144,\"eval_duration\":8049000000}\n",
      "\n",
      "JSON Decode Error: Extra data: line 2 column 1 (char 99)\n"
     ]
    }
   ],
   "source": [
    "import requests\n",
    "\n",
    "# Define the API endpoint and the query\n",
    "api_url = \"http://localhost:11434/api/generate\"  # Replace with the actual API URL\n",
    "query = \"What is LangChain?\"\n",
    "\n",
    "# Define the request payload\n",
    "payload = {\n",
    "    \"model\": \"llama3.2:1b\",\n",
    "    \"prompt\": query\n",
    "}\n",
    "\n",
    "# Send the request to the API\n",
    "response = requests.post(api_url, json=payload)\n",
    "\n",
    "# Print the status code and raw response\n",
    "print(\"Status Code:\", response.status_code)\n",
    "print(\"Raw Response:\", response.text)\n",
    "\n",
    "# Try to parse the JSON if the status code is 200\n",
    "if response.status_code == 200:\n",
    "    try:\n",
    "        data = response.json()\n",
    "        print(\"JSON Response:\", data)\n",
    "    except requests.exceptions.JSONDecodeError as e:\n",
    "        print(\"JSON Decode Error:\", e)\n",
    "else:\n",
    "    print(\"Error: Response returned with status code\", response.status_code)"
   ]
  },
  {
   "cell_type": "code",
   "execution_count": null,
   "metadata": {},
   "outputs": [],
   "source": []
  }
 ],
 "metadata": {
  "kernelspec": {
   "display_name": "envchat",
   "language": "python",
   "name": "python3"
  },
  "language_info": {
   "codemirror_mode": {
    "name": "ipython",
    "version": 3
   },
   "file_extension": ".py",
   "mimetype": "text/x-python",
   "name": "python",
   "nbconvert_exporter": "python",
   "pygments_lexer": "ipython3",
   "version": "3.11.4"
  }
 },
 "nbformat": 4,
 "nbformat_minor": 2
}
